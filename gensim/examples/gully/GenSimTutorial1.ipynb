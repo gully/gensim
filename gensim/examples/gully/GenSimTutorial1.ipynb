{
 "metadata": {
  "name": "",
  "signature": "sha256:c65a60b6f0e71a1e0b1c2dd4c5c7059e77920cda7687ac0a252070f8b86ed53c"
 },
 "nbformat": 3,
 "nbformat_minor": 0,
 "worksheets": [
  {
   "cells": [
    {
     "cell_type": "markdown",
     "metadata": {},
     "source": [
      "# Gensim Tutorial 1\n",
      "\n",
      "## Michael Gully-Santiago, October 9, 2014\n",
      "\n",
      "From the examples on the [Gensim Tutorial page](http://radimrehurek.com/gensim/tut1.html)."
     ]
    },
    {
     "cell_type": "code",
     "collapsed": false,
     "input": [
      "#%load \"../../../docs/src/tut1.rst\""
     ],
     "language": "python",
     "metadata": {},
     "outputs": [],
     "prompt_number": 4
    },
    {
     "cell_type": "markdown",
     "metadata": {},
     "source": [
      ".. _tut1:\n",
      "\n",
      "Corpora and Vector Spaces\n",
      "===================================\n",
      "\n",
      "Don't forget to set"
     ]
    },
    {
     "cell_type": "code",
     "collapsed": false,
     "input": [
      ">>> import logging\n",
      ">>> logging.basicConfig(format='%(asctime)s : %(levelname)s : %(message)s', level=logging.INFO)"
     ],
     "language": "python",
     "metadata": {},
     "outputs": [],
     "prompt_number": 5
    },
    {
     "cell_type": "markdown",
     "metadata": {},
     "source": [
      "if you want to see logging events.\n",
      "\n",
      "\n",
      ".. _second example:\n",
      "\n",
      "From Strings to Vectors\n",
      "------------------------\n",
      "\n",
      "This time, let's start from documents represented as strings:"
     ]
    },
    {
     "cell_type": "code",
     "collapsed": false,
     "input": [
      ">>> from gensim import corpora, models, similarities\n",
      ">>>\n",
      ">>> documents = [\"Human machine interface for lab abc computer applications\",\n",
      ">>>              \"A survey of user opinion of computer system response time\",\n",
      ">>>              \"The EPS user interface management system\",\n",
      ">>>              \"System and human system engineering testing of EPS\",\n",
      ">>>              \"Relation of user perceived response time to error measurement\",\n",
      ">>>              \"The generation of random binary unordered trees\",\n",
      ">>>              \"The intersection graph of paths in trees\",\n",
      ">>>              \"Graph minors IV Widths of trees and well quasi ordering\",\n",
      ">>>              \"Graph minors A survey\"]"
     ],
     "language": "python",
     "metadata": {},
     "outputs": [],
     "prompt_number": 7
    },
    {
     "cell_type": "markdown",
     "metadata": {},
     "source": [
      "This is a tiny corpus of nine documents, each consisting of only a single sentence.\n",
      "\n",
      "First, let's tokenize the documents, remove common words (using a toy stoplist)\n",
      "as well as words that only appear once in the corpus:"
     ]
    },
    {
     "cell_type": "code",
     "collapsed": false,
     "input": [
      ">>> # remove common words and tokenize\n",
      ">>> stoplist = set('for a of the and to in'.split())\n",
      ">>> texts = [[word for word in document.lower().split() if word not in stoplist]\n",
      ">>>          for document in documents]\n",
      ">>>\n",
      ">>> # remove words that appear only once\n",
      ">>> all_tokens = sum(texts, [])\n",
      ">>> tokens_once = set(word for word in set(all_tokens) if all_tokens.count(word) == 1)\n",
      ">>> texts = [[word for word in text if word not in tokens_once]\n",
      ">>>          for text in texts]\n",
      ">>>\n",
      ">>> print(texts)"
     ],
     "language": "python",
     "metadata": {},
     "outputs": [
      {
       "output_type": "stream",
       "stream": "stdout",
       "text": [
        "[['human', 'interface', 'computer'], ['survey', 'user', 'computer', 'system', 'response', 'time'], ['eps', 'user', 'interface', 'system'], ['system', 'human', 'system', 'eps'], ['user', 'response', 'time'], ['trees'], ['graph', 'trees'], ['graph', 'minors', 'trees'], ['graph', 'minors', 'survey']]\n"
       ]
      }
     ],
     "prompt_number": 9
    },
    {
     "cell_type": "markdown",
     "metadata": {},
     "source": [
      "Your way of processing the documents will likely vary; here, I only split on whitespace\n",
      "to tokenize, followed by lowercasing each word. In fact, I use this particular\n",
      "(simplistic and inefficient) setup to mimick the experiment done in Deerwester et al.'s\n",
      "original LSA article [1]_.\n",
      "\n",
      "The ways to process documents are so varied and application- and language-dependent that I\n",
      "decided to *not* constrain them by any interface. Instead, a document is represented\n",
      "by the features extracted from it, not by its \"surface\" string form: how you get to\n",
      "the features is up to you. Below I describe one common, general-purpose approach (called\n",
      ":dfn:`bag-of-words`), but keep in mind that different application domains call for\n",
      "different features, and, as always, it's `garbage in, garbage out <http://en.wikipedia.org/wiki/Garbage_In,_Garbage_Out>`_...\n",
      "\n",
      "To convert documents to vectors, we'll use a document representation called\n",
      "`bag-of-words <http://en.wikipedia.org/wiki/Bag_of_words>`_. In this representation,\n",
      "each document is represented by one vector where each vector element represents\n",
      "a question-answer pair, in the style of:\n",
      "\n",
      " \"How many times does the word `system` appear in the document? Once.\"\n",
      "\n",
      "It is advantageous to represent the questions only by their (integer) ids. The mapping\n",
      "between the questions and ids is called a dictionary:"
     ]
    },
    {
     "cell_type": "code",
     "collapsed": false,
     "input": [
      ">>> dictionary = corpora.Dictionary(texts)\n",
      ">>> dictionary.save('/tmp/deerwester.dict') # store the dictionary, for future reference\n",
      ">>> print(dictionary)"
     ],
     "language": "python",
     "metadata": {},
     "outputs": [
      {
       "output_type": "stream",
       "stream": "stdout",
       "text": [
        "Dictionary(12 unique tokens: [u'minors', u'graph', u'system', u'trees', u'eps']...)\n"
       ]
      }
     ],
     "prompt_number": 11
    },
    {
     "cell_type": "markdown",
     "metadata": {},
     "source": [
      "Here we assigned a unique integer id to all words appearing in the corpus with the\n",
      ":class:`gensim.corpora.dictionary.Dictionary` class. This sweeps across the texts, collecting word counts\n",
      "and relevant statistics. In the end, we see there are twelve distinct words in the\n",
      "processed corpus, which means each document will be represented by twelve numbers (ie., by a 12-D vector).\n",
      "To see the mapping between words and their ids:"
     ]
    },
    {
     "cell_type": "code",
     "collapsed": false,
     "input": [
      ">>> print(dictionary.token2id)"
     ],
     "language": "python",
     "metadata": {},
     "outputs": [
      {
       "output_type": "stream",
       "stream": "stdout",
       "text": [
        "{u'minors': 11, u'graph': 10, u'system': 5, u'trees': 9, u'eps': 8, u'computer': 0, u'survey': 4, u'user': 7, u'human': 1, u'time': 6, u'interface': 2, u'response': 3}\n"
       ]
      }
     ],
     "prompt_number": 13
    },
    {
     "cell_type": "markdown",
     "metadata": {},
     "source": [
      "To actually convert tokenized documents to vectors:"
     ]
    },
    {
     "cell_type": "code",
     "collapsed": false,
     "input": [
      ">>> new_doc = \"Human computer interaction\"\n",
      ">>> new_vec = dictionary.doc2bow(new_doc.lower().split())\n",
      ">>> print(new_vec) # the word \"interaction\" does not appear in the dictionary and is ignoredy"
     ],
     "language": "python",
     "metadata": {},
     "outputs": [
      {
       "output_type": "stream",
       "stream": "stdout",
       "text": [
        "[(0, 1), (1, 1)]\n"
       ]
      }
     ],
     "prompt_number": 14
    },
    {
     "cell_type": "markdown",
     "metadata": {},
     "source": [
      "The function :func:`doc2bow` simply counts the number of occurences of\n",
      "each distinct word, converts the word to its integer word id\n",
      "and returns the result as a sparse vector. The sparse vector ``[(0, 1), (1, 1)]``\n",
      "therefore reads: in the document `\"Human computer interaction\"`, the words `computer`\n",
      "(id 0) and `human` (id 1) appear once; the other ten dictionary words appear (implicitly) zero times."
     ]
    },
    {
     "cell_type": "code",
     "collapsed": false,
     "input": [
      "    >>> corpus = [dictionary.doc2bow(text) for text in texts]\n",
      "    >>> corpora.MmCorpus.serialize('/tmp/deerwester.mm', corpus) # store to disk, for later use\n",
      "    >>> print(corpus)"
     ],
     "language": "python",
     "metadata": {},
     "outputs": [
      {
       "output_type": "stream",
       "stream": "stdout",
       "text": [
        "[[(0, 1), (1, 1), (2, 1)], [(0, 1), (3, 1), (4, 1), (5, 1), (6, 1), (7, 1)], [(2, 1), (5, 1), (7, 1), (8, 1)], [(1, 1), (5, 2), (8, 1)], [(3, 1), (6, 1), (7, 1)], [(9, 1)], [(9, 1), (10, 1)], [(9, 1), (10, 1), (11, 1)], [(4, 1), (10, 1), (11, 1)]]\n"
       ]
      }
     ],
     "prompt_number": 15
    },
    {
     "cell_type": "markdown",
     "metadata": {},
     "source": [
      "By now it should be clear that the vector feature with ``id=10`` stands for the question \"How many\n",
      "times does the word `graph` appear in the document?\" and that the answer is \"zero\" for\n",
      "the first six documents and \"one\" for the remaining three. As a matter of fact,\n",
      "we have arrived at exactly the same corpus of vectors as in the :ref:`first-example`.\n",
      "\n",
      "Corpus Streaming -- One Document at a Time\n",
      "-------------------------------------------\n",
      "\n",
      "Note that `corpus` above resides fully in memory, as a plain Python list.\n",
      "In this simple example, it doesn't matter much, but just to make things clear,\n",
      "let's assume there are millions of documents in the corpus. Storing all of them in RAM won't do.\n",
      "Instead, let's assume the documents are stored in a file on disk, one document per line. Gensim\n",
      "only requires that a corpus must be able to return one document vector at a time::"
     ]
    },
    {
     "cell_type": "code",
     "collapsed": false,
     "input": [
      ">>> class MyCorpus(object):\n",
      ">>>     def __iter__(self):\n",
      ">>>         for line in open('mycorpus.txt'):\n",
      ">>>             # assume there's one document per line, tokens separated by whitespace\n",
      ">>>             yield dictionary.doc2bow(line.lower().split())"
     ],
     "language": "python",
     "metadata": {},
     "outputs": [],
     "prompt_number": 23
    },
    {
     "cell_type": "markdown",
     "metadata": {},
     "source": [
      "Download the [sample mycorpus.txt file here](http://radimrehurek.com/gensim/mycorpus.txt). The assumption that\n",
      "each document occupies one line in a single file is not important; you can mold\n",
      "the `__iter__` function to fit your input format, whatever it is.\n",
      "Walking directories, parsing XML, accessing network...\n",
      "Just parse your input to retrieve a clean list of tokens in each document,\n",
      "then convert the tokens via a dictionary to their ids and yield the resulting sparse vector inside `__iter__`."
     ]
    },
    {
     "cell_type": "code",
     "collapsed": false,
     "input": [
      ">>> corpus_memory_friendly = MyCorpus() # doesn't load the corpus into memory!\n",
      ">>> print(corpus_memory_friendly)"
     ],
     "language": "python",
     "metadata": {},
     "outputs": [
      {
       "output_type": "stream",
       "stream": "stdout",
       "text": [
        "<__main__.MyCorpus object at 0x109c9d590>\n"
       ]
      }
     ],
     "prompt_number": 24
    },
    {
     "cell_type": "markdown",
     "metadata": {},
     "source": [
      "Corpus is now an object. We didn't define any way to print it, so `print` just outputs address\n",
      "of the object in memory. Not very useful. To see the constituent vectors, let's\n",
      "iterate over the corpus and print each document vector (one at a time)::"
     ]
    },
    {
     "cell_type": "code",
     "collapsed": false,
     "input": [
      "    >>> for vector in corpus_memory_friendly: # load one vector into memory at a time\n",
      "    ...     print(vector)    "
     ],
     "language": "python",
     "metadata": {},
     "outputs": [
      {
       "output_type": "stream",
       "stream": "stdout",
       "text": [
        "[(0, 1), (1, 1), (2, 1)]\n",
        "[(0, 1), (3, 1), (4, 1), (5, 1), (6, 1), (7, 1)]\n",
        "[(2, 1), (5, 1), (7, 1), (8, 1)]\n",
        "[(1, 1), (5, 2), (8, 1)]\n",
        "[(3, 1), (6, 1), (7, 1)]\n",
        "[(9, 1)]\n",
        "[(9, 1), (10, 1)]\n",
        "[(9, 1), (10, 1), (11, 1)]\n",
        "[(4, 1), (10, 1), (11, 1)]\n"
       ]
      }
     ],
     "prompt_number": 25
    },
    {
     "cell_type": "markdown",
     "metadata": {},
     "source": [
      "Although the output is the same as for the plain Python list, the corpus is now much\n",
      "more memory friendly, because at most one vector resides in RAM at a time. Your\n",
      "corpus can now be as large as you want.\n",
      "\n",
      "Similarly, to construct the dictionary without loading all texts into memory::"
     ]
    },
    {
     "cell_type": "markdown",
     "metadata": {},
     "source": [
      "    >>> # collect statistics about all tokens\n",
      "    >>> dictionary = corpora.Dictionary(line.lower().split() for line in open('mycorpus.txt'))\n",
      "    >>> # remove stop words and words that appear only once\n",
      "    >>> stop_ids = [dictionary.token2id[stopword] for stopword in stoplist\n",
      "    >>>             if stopword in dictionary.token2id]\n",
      "    >>> once_ids = [tokenid for tokenid, docfreq in dictionary.dfs.iteritems() if docfreq == 1]\n",
      "    >>> dictionary.filter_tokens(stop_ids + once_ids) # remove stop words and words that appear only once\n",
      "    >>> dictionary.compactify() # remove gaps in id sequence after words that were removed\n",
      "    >>> print(dictionary)\n",
      "    Dictionary(12 unique tokens)"
     ]
    },
    {
     "cell_type": "markdown",
     "metadata": {},
     "source": [
      "And that is all there is to it! At least as far as bag-of-words representation is concerned.\n",
      "Of course, what we do with such corpus is another question; it is not at all clear\n",
      "how counting the frequency of distinct words could be useful. As it turns out, it isn't, and\n",
      "we will need to apply a transformation on this simple representation first, before\n",
      "we can use it to compute any meaningful document vs. document similarities.\n",
      "Transformations are covered in the :doc:`next tutorial <tut2>`, but before that, let's\n",
      "briefly turn our attention to *corpus persistency*.\n",
      "\n",
      "\n",
      ".. _corpus-formats:\n",
      "\n",
      "Corpus Formats\n",
      "---------------"
     ]
    },
    {
     "cell_type": "markdown",
     "metadata": {},
     "source": [
      "There exist several file formats for serializing a Vector Space corpus (~sequence of vectors) to disk.\n",
      "`Gensim` implements them via the *streaming corpus interface* mentioned earlier:\n",
      "documents are read from (resp. stored to) disk in a lazy fashion, one document at\n",
      "a time, without the whole corpus being read into main memory at once.\n",
      "\n",
      "One of the more notable file formats is the `Market Matrix format <http://math.nist.gov/MatrixMarket/formats.html>`_.\n",
      "To save a corpus in the Matrix Market format:"
     ]
    },
    {
     "cell_type": "markdown",
     "metadata": {},
     "source": [
      ">>> from gensim import corpora\n",
      ">>> # create a toy corpus of 2 documents, as a plain Python list\n",
      ">>> corpus = [[(1, 0.5)], []]  # make one document empty, for the heck of it\n",
      ">>>\n",
      ">>> corpora.MmCorpus.serialize('/tmp/corpus.mm', corpus)"
     ]
    },
    {
     "cell_type": "markdown",
     "metadata": {},
     "source": [
      "Other formats include `Joachim's SVMlight format <http://svmlight.joachims.org/>`_,\n",
      "`Blei's LDA-C format <http://www.cs.princeton.edu/~blei/lda-c/>`_ and\n",
      "`GibbsLDA++ format <http://gibbslda.sourceforge.net/>`_."
     ]
    },
    {
     "cell_type": "markdown",
     "metadata": {},
     "source": [
      ">>> corpora.SvmLightCorpus.serialize('/tmp/corpus.svmlight', corpus)\n",
      ">>> corpora.BleiCorpus.serialize('/tmp/corpus.lda-c', corpus)\n",
      ">>> corpora.LowCorpus.serialize('/tmp/corpus.low', corpus)"
     ]
    },
    {
     "cell_type": "markdown",
     "metadata": {},
     "source": [
      "Conversely, to load a corpus iterator from a Matrix Market file:"
     ]
    },
    {
     "cell_type": "markdown",
     "metadata": {},
     "source": [
      ">>> corpus = corpora.MmCorpus('/tmp/corpus.mm')"
     ]
    },
    {
     "cell_type": "markdown",
     "metadata": {},
     "source": [
      "Corpus objects are streams, so typically you won't be able to print them directly:"
     ]
    },
    {
     "cell_type": "markdown",
     "metadata": {},
     "source": [
      ">>> print(corpus)\n",
      "MmCorpus(2 documents, 2 features, 1 non-zero entries)"
     ]
    },
    {
     "cell_type": "markdown",
     "metadata": {},
     "source": [
      "Instead, to view the contents of a corpus:"
     ]
    },
    {
     "cell_type": "markdown",
     "metadata": {},
     "source": [
      ">>> # one way of printing a corpus: load it entirely into memory\n",
      ">>> print(list(corpus)) # calling list() will convert any sequence to a plain Python list\n",
      "[[(1, 0.5)], []]"
     ]
    },
    {
     "cell_type": "markdown",
     "metadata": {},
     "source": [
      "or"
     ]
    },
    {
     "cell_type": "markdown",
     "metadata": {},
     "source": [
      ">>> # another way of doing it: print one document at a time, making use of the streaming interface\n",
      ">>> for doc in corpus:\n",
      "...     print(doc)\n",
      "[(1, 0.5)]\n",
      "[]"
     ]
    },
    {
     "cell_type": "markdown",
     "metadata": {},
     "source": [
      "The second way is obviously more memory-friendly, but for testing and development\n",
      "purposes, nothing beats the simplicity of calling ``list(corpus)``.\n",
      "\n",
      "To save the same Matrix Market document stream in Blei's LDA-C format,"
     ]
    },
    {
     "cell_type": "markdown",
     "metadata": {},
     "source": [
      ">>> corpora.BleiCorpus.serialize('/tmp/corpus.lda-c', corpus)"
     ]
    },
    {
     "cell_type": "markdown",
     "metadata": {},
     "source": [
      "In this way, `gensim` can also be used as a memory-efficient **I/O format conversion tool**:\n",
      "just load a document stream using one format and immediately save it in another format.\n",
      "Adding new formats is dead easy, check out the `code for the SVMlight corpus\n",
      "<https://github.com/piskvorky/gensim/blob/develop/gensim/corpora/svmlightcorpus.py>`_ for an example.\n",
      "\n",
      "Compatibility with NumPy and SciPy\n",
      "----------------------------------\n",
      "\n",
      "Gensim also contains `efficient utility functions <http://radimrehurek.com/gensim/matutils.html>`_\n",
      "to help converting from/to numpy matrices::"
     ]
    },
    {
     "cell_type": "markdown",
     "metadata": {},
     "source": [
      ">>> corpus = gensim.matutils.Dense2Corpus(numpy_matrix)\n",
      ">>> numpy_matrix = gensim.matutils.corpus2dense(corpus)"
     ]
    },
    {
     "cell_type": "markdown",
     "metadata": {},
     "source": [
      "and from/to `scipy.sparse` matrices::"
     ]
    },
    {
     "cell_type": "markdown",
     "metadata": {},
     "source": [
      ">>> corpus = gensim.matutils.Sparse2Corpus(scipy_sparse_matrix)\n",
      ">>> scipy_csc_matrix = gensim.matutils.corpus2csc(corpus)"
     ]
    },
    {
     "cell_type": "markdown",
     "metadata": {},
     "source": [
      "-------------\n",
      "\n",
      "For a complete reference (Want to prune the dictionary to a smaller size?\n",
      "Optimize converting between corpora and NumPy/SciPy arrays?), see the :doc:`API documentation <apiref>`.\n",
      "Or continue to the next tutorial on :doc:`tut2`.\n",
      "\n",
      "\n",
      ".. [1]  This is the same corpus as used in\n",
      "        `Deerwester et al. (1990): Indexing by Latent Semantic Analysis <http://www.cs.bham.ac.uk/~pxt/IDA/lsa_ind.pdf>`_, Table 2."
     ]
    },
    {
     "cell_type": "code",
     "collapsed": false,
     "input": [],
     "language": "python",
     "metadata": {},
     "outputs": [],
     "prompt_number": 5
    }
   ],
   "metadata": {}
  }
 ]
}